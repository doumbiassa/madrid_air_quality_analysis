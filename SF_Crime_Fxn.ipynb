{
 "cells": [
  {
   "cell_type": "code",
   "execution_count": null,
   "metadata": {},
   "outputs": [],
   "source": [
    "#Top \n",
    "key_cr = ['Larceny','Theft', 'Assault', 'Vandalism', 'Burglary',\n",
    "          'Battery','Rape','Possession', 'Robbery','Fraudulent','Mental','Violation','Person',\n",
    "         'Suspicious','Shoplifting','Traffic','Vehicle']\n",
    "#Assigns Known crime \n",
    "def assign_crime(x):\n",
    "    cr = 'general'\n",
    "    for crime in key_cr:\n",
    "        if crime in x:\n",
    "            cr = crime\n",
    "    return cr\n",
    "\n",
    "def crime_keywords(x):\n",
    "    key_crimes = []\n",
    "    for x in crimes:\n",
    "        crime = x.split()\n",
    "        for c in crime:\n",
    "            key_crimes.append(c.strip(','))\n",
    "    return key_crimes  \n",
    "\n",
    "\n",
    "def K_Fold_Classification(X,y,n):\n",
    "    kf = KFold(n_splits=n)\n",
    "    kf.get_n_splits(X)\n",
    "    train_acc= []\n",
    "    test_acc = []\n",
    "    for train_index, test_index in kf.split(X):\n",
    "        X_train, X_test = X.iloc[train_index], X.iloc[test_index]\n",
    "        y_train, y_test = y.iloc[train_index], y.iloc[test_index]\n",
    "        clf_RF_weights.fit(X_train,y_train)\n",
    "        y_hat = clf_RF_weights.predict(X_test)\n",
    "        y_hat_train = clf_RF_weights.predict(X_train)\n",
    "        acc = accuracy_score(y_test, y_hat) * 100\n",
    "        acc_train = accuracy_score(y_train, y_hat_train) * 100\n",
    "        train_acc.append(acc_train)\n",
    "        test_acc.append(acc)\n",
    "    return train_score,test_score\n",
    "\n",
    "def Confusion_Matrix(x):\n",
    "    cm = ConfusionMatrix(clf_RF_weights)\n",
    "\n",
    "    # To create the ConfusionMatrix, we need some test data. Score runs predict() on the data\n",
    "    # and then creates the confusion_matrix from scikit-learn.\n",
    "    cm.score(X_test, y_test)\n",
    "\n",
    "    # How did we do?\n",
    "    cm.poof()"
   ]
  }
 ],
 "metadata": {
  "kernelspec": {
   "display_name": "Python 3",
   "language": "python",
   "name": "python3"
  },
  "language_info": {
   "codemirror_mode": {
    "name": "ipython",
    "version": 3
   },
   "file_extension": ".py",
   "mimetype": "text/x-python",
   "name": "python",
   "nbconvert_exporter": "python",
   "pygments_lexer": "ipython3",
   "version": "3.7.3"
  }
 },
 "nbformat": 4,
 "nbformat_minor": 2
}
